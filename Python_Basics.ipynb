{
  "nbformat": 4,
  "nbformat_minor": 0,
  "metadata": {
    "colab": {
      "provenance": [],
      "authorship_tag": "ABX9TyNLEWXwrxWWdQ+pqY+bDWQr",
      "include_colab_link": true
    },
    "kernelspec": {
      "name": "python3",
      "display_name": "Python 3"
    },
    "language_info": {
      "name": "python"
    }
  },
  "cells": [
    {
      "cell_type": "markdown",
      "metadata": {
        "id": "view-in-github",
        "colab_type": "text"
      },
      "source": [
        "<a href=\"https://colab.research.google.com/github/Surya-123456789/Surya-123456789/blob/main/Python_Basics.ipynb\" target=\"_parent\"><img src=\"https://colab.research.google.com/assets/colab-badge.svg\" alt=\"Open In Colab\"/></a>"
      ]
    },
    {
      "cell_type": "code",
      "execution_count": null,
      "metadata": {
        "colab": {
          "base_uri": "https://localhost:8080/"
        },
        "id": "jjcniVcXMZHM",
        "outputId": "90957210-acce-4c8c-e183-a3ed43db558a"
      },
      "outputs": [
        {
          "output_type": "stream",
          "name": "stdout",
          "text": [
            "enter your name : surya\n",
            "enter your weight : 60\n",
            "enter your age : 20\n",
            "enter your height : 170\n",
            "surya\n",
            "60\n",
            "20\n",
            "170.0\n"
          ]
        }
      ],
      "source": [
        "name = str(input(\"enter your name : \"))\n",
        "weight = int(input(\"enter your weight : \"))\n",
        "age = int(input(\"enter your age : \"))\n",
        "height = float(input(\"enter your height : \"))\n",
        "print(name)\n",
        "print(weight)\n",
        "print(age)\n",
        "print(height)"
      ]
    },
    {
      "cell_type": "code",
      "source": [
        "## leap year\n",
        "n = int(input(\"enter a number:\"))\n",
        "if(n%4==0)and(n%100!=0)or(n%400==0):\n",
        "  print(\"leap year\")\n",
        "else:\n",
        "  print(\"not a leap year\")"
      ],
      "metadata": {
        "colab": {
          "base_uri": "https://localhost:8080/"
        },
        "id": "75EJ8h3Zsh7s",
        "outputId": "b2d929dc-f661-4778-d8bb-62bdc94c00dd"
      },
      "execution_count": null,
      "outputs": [
        {
          "output_type": "stream",
          "name": "stdout",
          "text": [
            "enter a number:2025\n",
            "not a leap year\n"
          ]
        }
      ]
    },
    {
      "cell_type": "code",
      "source": [
        "## PALINDROME\n",
        "a = input(\"enter a string:\")\n",
        "if(a==a[::-1]):\n",
        "  print(\"palindrome\")\n",
        "else:\n",
        "  print(\"nope\")"
      ],
      "metadata": {
        "colab": {
          "base_uri": "https://localhost:8080/"
        },
        "id": "gpxeGkhlsitY",
        "outputId": "14635313-99c8-4087-e634-c055fd710d90"
      },
      "execution_count": null,
      "outputs": [
        {
          "output_type": "stream",
          "name": "stdout",
          "text": [
            "enter a string:rivir\n",
            "palindrome\n"
          ]
        }
      ]
    },
    {
      "cell_type": "code",
      "source": [
        "n = int(input(\"enter your age : \"))\n",
        "if(n>=18):\n",
        "  print(\"eligible\")\n",
        "elif(n<0):\n",
        "  print(\"enter a valid number\")\n",
        "else:\n",
        "  print(\"not eligible\")"
      ],
      "metadata": {
        "colab": {
          "base_uri": "https://localhost:8080/"
        },
        "id": "QwXjduaoSqol",
        "outputId": "e6704576-0e80-4518-e5ae-208eb30b5c47"
      },
      "execution_count": null,
      "outputs": [
        {
          "output_type": "stream",
          "name": "stdout",
          "text": [
            "enter your age : -9\n",
            "enter a valid number\n"
          ]
        }
      ]
    },
    {
      "cell_type": "code",
      "source": [
        "a = 'Surya'\n",
        "b = 'PRAKASH'\n",
        "print(a.upper())\n",
        "print(b.lower())"
      ],
      "metadata": {
        "colab": {
          "base_uri": "https://localhost:8080/"
        },
        "id": "iAX1lfXEbGKv",
        "outputId": "286340cc-efc4-46ac-d1ba-a3e8a5dacc7c"
      },
      "execution_count": null,
      "outputs": [
        {
          "output_type": "stream",
          "name": "stdout",
          "text": [
            "SURYA\n",
            "prakash\n"
          ]
        }
      ]
    },
    {
      "cell_type": "code",
      "source": [
        "#list\n",
        "L = [1,2,3,4,7,8,9]\n",
        "print(L)\n",
        "#append\n",
        "L.append(56)\n",
        "print(L)\n",
        "#extend\n",
        "L.extend([11,12])\n",
        "print(L)\n",
        "#insert\n",
        "L.insert(5,6)\n",
        "position = 4\n",
        "print(L)"
      ],
      "metadata": {
        "colab": {
          "base_uri": "https://localhost:8080/"
        },
        "id": "rUdXwj42MMjV",
        "outputId": "9788919f-d26e-445a-ecd0-d9a85486da20"
      },
      "execution_count": null,
      "outputs": [
        {
          "output_type": "stream",
          "name": "stdout",
          "text": [
            "[1, 2, 3, 4, 7, 8, 9]\n",
            "[1, 2, 3, 4, 7, 8, 9, 56]\n",
            "[1, 2, 3, 4, 7, 8, 9, 56, 11, 12]\n",
            "[1, 2, 3, 4, 7, 6, 8, 9, 56, 11, 12]\n"
          ]
        }
      ]
    },
    {
      "cell_type": "code",
      "source": [
        "numbers = [1, 2, 5, 3, 4, 10, 5, 6, 5]\n",
        "a=numbers.sort()\n",
        "print('Numbers after sorting:', a)\n",
        "b=numbers.sort(reverse=True)\n",
        "print('Numbers after sorting in descending order:', b)\n",
        "c=numbers.reverse()\n",
        "print('Reverse of the list:', c)"
      ],
      "metadata": {
        "colab": {
          "base_uri": "https://localhost:8080/"
        },
        "id": "vknJOY43XYbv",
        "outputId": "8244794c-fa4f-4005-8b4b-f7e10527ae2e"
      },
      "execution_count": null,
      "outputs": [
        {
          "output_type": "stream",
          "name": "stdout",
          "text": [
            "Numbers after sorting: None\n",
            "Numbers after sorting in descending order: None\n",
            "Reverse of the list: None\n"
          ]
        }
      ]
    },
    {
      "cell_type": "code",
      "source": [
        "##factorial\n",
        "n = int(input(\"enter a number:\"))\n",
        "a = 1\n",
        "for i in range(1,n+1):\n",
        "  a *= i\n",
        "print(a)"
      ],
      "metadata": {
        "colab": {
          "base_uri": "https://localhost:8080/"
        },
        "id": "PRnQr2lxuXR5",
        "outputId": "f6802933-9597-4bf4-9337-13a52fa1efcd"
      },
      "execution_count": null,
      "outputs": [
        {
          "output_type": "stream",
          "name": "stdout",
          "text": [
            "enter a number:7\n",
            "5040\n"
          ]
        }
      ]
    },
    {
      "cell_type": "code",
      "source": [
        "## reverse a string\n",
        "a = input(\"enter a string:\")\n",
        "b = (a[::-1])\n",
        "print(b)"
      ],
      "metadata": {
        "colab": {
          "base_uri": "https://localhost:8080/"
        },
        "id": "FY0jdoXvwJGx",
        "outputId": "00d03d16-1883-406a-a3fc-73a5943446b4"
      },
      "execution_count": null,
      "outputs": [
        {
          "output_type": "stream",
          "name": "stdout",
          "text": [
            "enter a string:surya\n",
            "ayrus\n"
          ]
        }
      ]
    },
    {
      "cell_type": "code",
      "source": [
        "### prime or not\n",
        "num = int(input(\"enter a number:\"))\n",
        "flag = 0\n",
        "for i in range(2,num):\n",
        "  if num%i==0:\n",
        "    flag = 1\n",
        "    break\n",
        "if flag == 1:\n",
        "  print('Not Prime')\n",
        "else:\n",
        "  print(\"Prime\")"
      ],
      "metadata": {
        "colab": {
          "base_uri": "https://localhost:8080/"
        },
        "id": "fmBfpqye4mxK",
        "outputId": "818677ca-fe62-420d-b81e-3d864996a63d"
      },
      "execution_count": null,
      "outputs": [
        {
          "output_type": "stream",
          "name": "stdout",
          "text": [
            "enter a number:0\n",
            "Prime\n"
          ]
        }
      ]
    },
    {
      "cell_type": "code",
      "source": [
        "def check(s1, s2):\n",
        "  if(sorted(s1)== sorted(s2)):\n",
        "    print(\"The strings are anagrams.\")\n",
        "  else:\n",
        "    print(\"The strings aren't anagrams.\")\n",
        "s1 = input(\"enter a string:\")\n",
        "s2 = input(\"enter a string:\")\n",
        "check(s1, s2)"
      ],
      "metadata": {
        "colab": {
          "base_uri": "https://localhost:8080/"
        },
        "id": "WmKH-ryA5OfB",
        "outputId": "abde145f-f47b-440d-9b0e-3674aa248eff"
      },
      "execution_count": null,
      "outputs": [
        {
          "output_type": "stream",
          "name": "stdout",
          "text": [
            "enter a string:tamil\n",
            "enter a string:malit\n",
            "The strings are anagrams.\n"
          ]
        }
      ]
    }
  ]
}