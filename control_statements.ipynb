{
  "nbformat": 4,
  "nbformat_minor": 0,
  "metadata": {
    "colab": {
      "provenance": [],
      "authorship_tag": "ABX9TyOVgAN3RGXUiI7IY9yQXFSj",
      "include_colab_link": true
    },
    "kernelspec": {
      "name": "python3",
      "display_name": "Python 3"
    },
    "language_info": {
      "name": "python"
    }
  },
  "cells": [
    {
      "cell_type": "markdown",
      "metadata": {
        "id": "view-in-github",
        "colab_type": "text"
      },
      "source": [
        "<a href=\"https://colab.research.google.com/github/Surya-123456789/Surya-123456789/blob/main/control_statements.ipynb\" target=\"_parent\"><img src=\"https://colab.research.google.com/assets/colab-badge.svg\" alt=\"Open In Colab\"/></a>"
      ]
    },
    {
      "cell_type": "markdown",
      "source": [
        "1. Coffee Shop Rewards Program   \n",
        "\n",
        "A coffee shop wants to reward its customers with a free drink after their 5th visit. However, the program skips visits where the customer spends less than $5.  \n",
        "\n",
        "- Write a program that tracks customer visits and calculates how many qualifying visits remain before they earn a free drink.  \n",
        "\n",
        "- Use `continue` to skip low-spend visits.  \n"
      ],
      "metadata": {
        "id": "AzZD_rmVgiPN"
      }
    },
    {
      "cell_type": "code",
      "execution_count": 6,
      "metadata": {
        "colab": {
          "base_uri": "https://localhost:8080/"
        },
        "id": "3LUASYSkdY8E",
        "outputId": "8f1a0196-cdd7-495b-eb92-d9afa10f8f3f"
      },
      "outputs": [
        {
          "output_type": "stream",
          "name": "stdout",
          "text": [
            "Welcome to the coffee shop rewards program!\n",
            "Simulated spend input: $4.5\n",
            "Spend less than $5. This visit doesn't count toward the reward.\n",
            "Simulated spend input: $6.0\n",
            "This visit qualifies! You need 4 more qualifying visits to earn a free drink.\n",
            "Simulated spend input: $3.0\n",
            "Spend less than $5. This visit doesn't count toward the reward.\n",
            "Simulated spend input: $7.0\n",
            "This visit qualifies! You need 3 more qualifying visits to earn a free drink.\n",
            "Simulated spend input: $5.0\n",
            "This visit qualifies! You need 2 more qualifying visits to earn a free drink.\n",
            "Simulated spend input: $10.0\n",
            "This visit qualifies! You need 1 more qualifying visits to earn a free drink.\n",
            "Simulated spend input: $11.0\n",
            "Congratulations! You've earned a free drink!\n"
          ]
        }
      ],
      "source": [
        "def track_customer_visits():\n",
        "    qualifying_visits_needed = 5\n",
        "    qualifying_visits = 0\n",
        "\n",
        "    print(\"Welcome to the coffee shop rewards program!\")\n",
        "\n",
        "\n",
        "    customer_spends = [4.5, 6.0, 3.0, 7.0, 5.0, 10.0, 11.0]\n",
        "\n",
        "    for spend in customer_spends:\n",
        "        try:\n",
        "            print(f\"Simulated spend input: ${spend}\")\n",
        "\n",
        "            if spend < 5:\n",
        "                print(\"Spend less than $5. This visit doesn't count toward the reward.\")\n",
        "                continue\n",
        "            qualifying_visits += 1\n",
        "            visits_left = qualifying_visits_needed - qualifying_visits\n",
        "\n",
        "\n",
        "\n",
        "            if visits_left > 0:\n",
        "                print(f\"This visit qualifies! You need {visits_left} more qualifying visits to earn a free drink.\")\n",
        "            else:\n",
        "                print(\"Congratulations! You've earned a free drink!\")\n",
        "                break\n",
        "        except ValueError:\n",
        "            print(\"Invalid input. Please enter a valid dollar amount.\")\n",
        "\n",
        "track_customer_visits()\n"
      ]
    },
    {
      "cell_type": "markdown",
      "source": [
        "2. Treasure Hunt Game  \n",
        "\n",
        "Create a treasure hunt game where the player has to navigate a grid to find treasure.  \n",
        "\n",
        "- Use a `while` loop to let the player make moves (north, south, east, west).  \n",
        "- If they hit an obstacle, inform them and let them retry.  \n",
        "- Use `break` when the player finds the treasure.  \n"
      ],
      "metadata": {
        "id": "tfwXLYynguYQ"
      }
    },
    {
      "cell_type": "code",
      "source": [
        "import random\n",
        "\n",
        "def treasure_hunt_game():\n",
        "    grid_size = 5\n",
        "    treasure_position = (random.randint(0, grid_size - 1), random.randint(0, grid_size - 1))\n",
        "    obstacles = {(random.randint(0, grid_size - 1), random.randint(0, grid_size - 1)) for _ in range(3)}\n",
        "    obstacles.discard(treasure_position)  # Ensure treasure isn't an obstacle\n",
        "\n",
        "    player_position = (0, 0)\n",
        "\n",
        "    print(\"Welcome to the Treasure Hunt Game!\")\n",
        "    print(f\"You are starting at {player_position} on a {grid_size}x{grid_size} grid.\")\n",
        "\n",
        "    # Predefined moves for non-interactive environments\n",
        "    predefined_moves = [\"north\", \"east\", \"east\", \"south\", \"south\", \"west\", \"south\"]\n",
        "\n",
        "    for move in predefined_moves:\n",
        "        print(\"\\nYour current position:\", player_position)\n",
        "        print(f\"Simulated move input: {move}\")\n",
        "\n",
        "        new_position = player_position\n",
        "        if move == \"north\":\n",
        "            new_position = (player_position[0] - 1, player_position[1])\n",
        "        elif move == \"south\":\n",
        "            new_position = (player_position[0] + 1, player_position[1])\n",
        "        elif move == \"east\":\n",
        "            new_position = (player_position[0], player_position[1] + 1)\n",
        "        elif move == \"west\":\n",
        "            new_position = (player_position[0], player_position[1] - 1)\n",
        "        else:\n",
        "            print(\"Invalid move. Please enter north, south, east, or west.\")\n",
        "            continue\n",
        "\n",
        "        # Check for out-of-bounds\n",
        "        if not (0 <= new_position[0] < grid_size and 0 <= new_position[1] < grid_size):\n",
        "            print(\"You can't move outside the grid! Try a different direction.\")\n",
        "            continue\n",
        "\n",
        "        # Check for obstacles\n",
        "        if new_position in obstacles:\n",
        "            print(\"You hit an obstacle! Try a different direction.\")\n",
        "            continue\n",
        "\n",
        "        # Update player position\n",
        "        player_position = new_position\n",
        "\n",
        "        # Check for treasure\n",
        "        if player_position == treasure_position:\n",
        "            print(\"\\nCongratulations! You found the treasure at\", treasure_position, \"!\")\n",
        "            break\n",
        "\n",
        "# Run the game\n",
        "treasure_hunt_game()\n"
      ],
      "metadata": {
        "colab": {
          "base_uri": "https://localhost:8080/"
        },
        "id": "8fMoI1fFgdOF",
        "outputId": "3bfac755-c5ca-4443-ffc6-266fbeb21857"
      },
      "execution_count": 8,
      "outputs": [
        {
          "output_type": "stream",
          "name": "stdout",
          "text": [
            "Welcome to the Treasure Hunt Game!\n",
            "You are starting at (0, 0) on a 5x5 grid.\n",
            "\n",
            "Your current position: (0, 0)\n",
            "Simulated move input: north\n",
            "You can't move outside the grid! Try a different direction.\n",
            "\n",
            "Your current position: (0, 0)\n",
            "Simulated move input: east\n",
            "\n",
            "Your current position: (0, 1)\n",
            "Simulated move input: east\n",
            "\n",
            "Your current position: (0, 2)\n",
            "Simulated move input: south\n",
            "\n",
            "Your current position: (1, 2)\n",
            "Simulated move input: south\n",
            "\n",
            "Your current position: (2, 2)\n",
            "Simulated move input: west\n",
            "\n",
            "Your current position: (2, 1)\n",
            "Simulated move input: south\n"
          ]
        }
      ]
    },
    {
      "cell_type": "markdown",
      "source": [
        "3. Fitness Tracker  \n",
        "\n",
        "Simulate a step counter for a fitness tracker that encourages users to meet a 10,000-step daily goal.  \n",
        "\n",
        "- Use a `for` loop to simulate tracking steps taken throughout the day.  \n",
        "- If the user exceeds the goal, display a motivational message and end tracking (`break`).  \n",
        "- If they don't reach the goal by the end, suggest a specific number of steps for a quick walk.  \n"
      ],
      "metadata": {
        "id": "uWTZIpXOhVuW"
      }
    },
    {
      "cell_type": "code",
      "source": [
        "import random\n",
        "\n",
        "def simulate_step_counter():\n",
        "    daily_goal = 10000\n",
        "    steps_taken = 0\n",
        "\n",
        "    print(\"Welcome to your daily step tracker!\")\n",
        "    print(f\"Your goal is {daily_goal} steps today. Let's get moving!\\n\")\n",
        "\n",
        "    # Simulate steps throughout the day (in increments of random steps)\n",
        "    for hour in range(1, 13):  # Simulating 12 hours of activity\n",
        "        steps_this_hour = random.randint(500, 1500)  # Random steps per hour\n",
        "        steps_taken += steps_this_hour\n",
        "\n",
        "        print(f\"Hour {hour}: You walked {steps_this_hour} steps. Total: {steps_taken} steps.\")\n",
        "\n",
        "        if steps_taken >= daily_goal:\n",
        "            print(f\"\\nCongratulations! You've reached your goal of {daily_goal} steps! Keep up the great work!\")\n",
        "            break\n",
        "    else:\n",
        "        # If the loop completes without breaking, suggest additional steps\n",
        "        steps_needed = daily_goal - steps_taken\n",
        "        print(f\"\\nYou didn't quite reach your goal. You need {steps_needed} more steps.\")\n",
        "        print(f\"Take a quick walk of about {steps_needed} steps to meet your goal!\")\n",
        "\n",
        "# Run the step counter simulation\n",
        "simulate_step_counter()\n"
      ],
      "metadata": {
        "colab": {
          "base_uri": "https://localhost:8080/"
        },
        "id": "f9hScsCKhVT1",
        "outputId": "a398383e-9825-4386-9594-d2291b373849"
      },
      "execution_count": 13,
      "outputs": [
        {
          "output_type": "stream",
          "name": "stdout",
          "text": [
            "Welcome to your daily step tracker!\n",
            "Your goal is 10000 steps today. Let's get moving!\n",
            "\n",
            "Hour 1: You walked 777 steps. Total: 777 steps.\n",
            "Hour 2: You walked 1435 steps. Total: 2212 steps.\n",
            "Hour 3: You walked 845 steps. Total: 3057 steps.\n",
            "Hour 4: You walked 1406 steps. Total: 4463 steps.\n",
            "Hour 5: You walked 1192 steps. Total: 5655 steps.\n",
            "Hour 6: You walked 651 steps. Total: 6306 steps.\n",
            "Hour 7: You walked 520 steps. Total: 6826 steps.\n",
            "Hour 8: You walked 863 steps. Total: 7689 steps.\n",
            "Hour 9: You walked 1201 steps. Total: 8890 steps.\n",
            "Hour 10: You walked 1363 steps. Total: 10253 steps.\n",
            "\n",
            "Congratulations! You've reached your goal of 10000 steps! Keep up the great work!\n"
          ]
        }
      ]
    },
    {
      "cell_type": "markdown",
      "source": [
        "4. ATM Withdrawal Limit  \n",
        "\n",
        "Create an ATM withdrawal system that allows up to 3 withdrawals per day, with a maximum limit of $500 per transaction.  \n",
        "\n",
        "- Use a `while` loop to let the user make withdrawals.  \n",
        "- If the user exceeds the daily transaction limit, display an error and `break`.  \n",
        "- Use `else` to display a message if the user doesn’t withdraw all available transactions.  \n"
      ],
      "metadata": {
        "id": "bNSUkuYNiaGL"
      }
    },
    {
      "cell_type": "code",
      "source": [
        "def atm_withdrawal_system():\n",
        "    daily_limit = 3\n",
        "    max_transaction = 500\n",
        "    withdrawals_made = 0\n",
        "\n",
        "    print(\"Welcome to the ATM Withdrawal System!\")\n",
        "    print(f\"You can make up to {daily_limit} withdrawals today, with a maximum of ${max_transaction} per transaction.\\n\")\n",
        "\n",
        "    # Predefined inputs for non-interactive environments\n",
        "    predefined_amounts = [200, 600, 300, -50, 400]  # Example withdrawal amounts\n",
        "\n",
        "    for amount in predefined_amounts:\n",
        "        try:\n",
        "            print(f\"Simulated input: ${amount}\")\n",
        "\n",
        "            if amount > max_transaction:\n",
        "                print(f\"Error: The maximum withdrawal limit per transaction is ${max_transaction}. Please enter a smaller amount.\")\n",
        "                continue\n",
        "\n",
        "            if amount <= 0:\n",
        "                print(\"Error: The withdrawal amount must be greater than zero. Please try again.\")\n",
        "                continue\n",
        "\n",
        "            print(f\"Withdrawal successful! You withdrew ${amount:.2f}.\")\n",
        "            withdrawals_made += 1\n",
        "\n",
        "            if withdrawals_made >= daily_limit:\n",
        "                break\n",
        "\n",
        "        except ValueError:\n",
        "            print(\"Invalid input. Please enter a valid amount.\")\n",
        "\n",
        "    else:\n",
        "        print(\"\\nYou have completed your daily transactions. Thank you for using the ATM!\")\n",
        "\n",
        "    if withdrawals_made < daily_limit:\n",
        "        print(f\"\\nYou made {withdrawals_made} withdrawal(s) today. You have {daily_limit - withdrawals_made} withdrawal(s) remaining.\")\n",
        "\n",
        "# Run the ATM withdrawal system\n",
        "atm_withdrawal_system()"
      ],
      "metadata": {
        "colab": {
          "base_uri": "https://localhost:8080/"
        },
        "id": "cjVCHrX0iZZ8",
        "outputId": "453c7637-466a-4824-88fb-acec24160dad"
      },
      "execution_count": 14,
      "outputs": [
        {
          "output_type": "stream",
          "name": "stdout",
          "text": [
            "Welcome to the ATM Withdrawal System!\n",
            "You can make up to 3 withdrawals today, with a maximum of $500 per transaction.\n",
            "\n",
            "Simulated input: $200\n",
            "Withdrawal successful! You withdrew $200.00.\n",
            "Simulated input: $600\n",
            "Error: The maximum withdrawal limit per transaction is $500. Please enter a smaller amount.\n",
            "Simulated input: $300\n",
            "Withdrawal successful! You withdrew $300.00.\n",
            "Simulated input: $-50\n",
            "Error: The withdrawal amount must be greater than zero. Please try again.\n",
            "Simulated input: $400\n",
            "Withdrawal successful! You withdrew $400.00.\n"
          ]
        }
      ]
    },
    {
      "cell_type": "markdown",
      "source": [
        "5. Guess the Password  \n",
        "\n",
        "Create a password guessing game with a maximum of 3 attempts.  \n",
        "\n",
        "- Use a `while` loop to let the user guess the password.  \n",
        "- If the correct password is guessed, congratulate them and `break`.  \n",
        "- After 3 failed attempts, display a message that the account is locked.  \n"
      ],
      "metadata": {
        "id": "2lkK-8Zvkxg8"
      }
    },
    {
      "cell_type": "code",
      "source": [
        "def password_guessing_game():\n",
        "    correct_password = \"secure123\"\n",
        "    max_attempts = 3\n",
        "    attempts = 0\n",
        "\n",
        "    print(\"Welcome to the Password Guessing Game!\")\n",
        "    print(f\"You have up to {max_attempts} attempts to guess the password.\\n\")\n",
        "\n",
        "    while attempts < max_attempts:\n",
        "        guessed_password = input(f\"Attempt {attempts + 1}: Enter your password: \").strip()\n",
        "\n",
        "        if guessed_password == correct_password:\n",
        "            print(\"\\nCongratulations! You guessed the correct password.\")\n",
        "            break\n",
        "        else:\n",
        "            print(\"Incorrect password. Please try again.\")\n",
        "            attempts += 1\n",
        "\n",
        "    else:\n",
        "        print(\"\\nYou have used all attempts. Your account is locked.\")\n",
        "\n",
        "# Run the password guessing game\n",
        "password_guessing_game()\n"
      ],
      "metadata": {
        "colab": {
          "base_uri": "https://localhost:8080/"
        },
        "id": "YQQa0bCxkxR0",
        "outputId": "cfdf0242-9f33-470a-ed18-2b3ff0376228"
      },
      "execution_count": 15,
      "outputs": [
        {
          "output_type": "stream",
          "name": "stdout",
          "text": [
            "Welcome to the Password Guessing Game!\n",
            "You have up to 3 attempts to guess the password.\n",
            "\n",
            "Attempt 1: Enter your password: surya\n",
            "Incorrect password. Please try again.\n",
            "Attempt 2: Enter your password: ssp\n",
            "Incorrect password. Please try again.\n",
            "Attempt 3: Enter your password: prakash\n",
            "Incorrect password. Please try again.\n",
            "\n",
            "You have used all attempts. Your account is locked.\n"
          ]
        }
      ]
    },
    {
      "cell_type": "markdown",
      "source": [],
      "metadata": {
        "id": "l7kTZoZLiZH7"
      }
    }
  ]
}